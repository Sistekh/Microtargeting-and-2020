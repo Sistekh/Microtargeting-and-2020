{
 "cells": [
  {
   "cell_type": "markdown",
   "metadata": {},
   "source": [
    "MICROTARGETING AND THE U.S. 2020 ELECTION"
   ]
  },
  {
   "cell_type": "markdown",
   "metadata": {},
   "source": [
    "What is the discourse of Twitter about microtargeting and the 2020 U.S. presidential election? \n",
    "\n",
    "The background to this question is that micro-targeting during the 2016 presidential campaign increased the likelihood for Republicans, especially those without a college degree (Donald Trump’s core supporters), to vote by 5-10 percent (Liberini et al. 2018, 5). In other words, micro-targeting might have helped Donald Trump win the election, which is further reflected in the fact that the Trump campaign spent 47 percent of its budget on digital media, compared to the Clinton’s campaign’s 8 percent (Liberini et al. 2018, 2). Liberini expresses this to be “further evidence that recent political outcomes, such as Brexit and the election of President Trump, might be largely due to the use of data analytics” (Kiggins 2018).\n",
    "\n",
    "Liberini, Federica et al. 2018. The Warwick Economics Research Paper Series (TWERPS) Politics in the Facebook Era Evidence from the 2016 US Presidential Elections. University of Warwick, Department of Economics. https://ideas.repec.org/p/wrk/warwec/1181.html (May 2, 2020).\n",
    "\n",
    "Kiggins, Sheila. 2018. “Facebook Political Advertising Boosted Trump Turnout by up to Ten per Cent in the 2016 Elections, Research Finds.” https://warwick.ac.uk/newsandevents/pressreleases/facebook_political_advertising/ (May 5, 2020)."
   ]
  },
  {
   "cell_type": "code",
   "execution_count": 2,
   "metadata": {},
   "outputs": [],
   "source": [
    "import tweepy\n",
    "from twitter_authentication import CONSUMER_KEY, CONSUMER_SECRET, ACCESS_TOKEN, ACCESS_TOKEN_SECRET\n",
    "\n",
    "auth = tweepy.OAuthHandler(CONSUMER_KEY, CONSUMER_SECRET)\n",
    "auth.set_access_token(ACCESS_TOKEN, ACCESS_TOKEN_SECRET)\n",
    "\n",
    "fn = './microtargeting_2020.json'\n"
   ]
  },
  {
   "cell_type": "code",
   "execution_count": 3,
   "metadata": {},
   "outputs": [],
   "source": [
    "import json\n",
    "import csv\n",
    "from datetime import date\n",
    "from datetime import datetime\n",
    "import requests\n",
    "import pprint\n",
    "import time\n",
    "import pandas as pd\n",
    "import matplotlib.pyplot as plt"
   ]
  },
  {
   "cell_type": "code",
   "execution_count": 4,
   "metadata": {},
   "outputs": [],
   "source": [
    "api = tweepy.API(auth, wait_on_rate_limit=True)\n",
    "result = []\n",
    "for tweet in tweepy.Cursor(api.search, \"2020\" and \"microtargeting\", tweet_mode=\"extended\").items(1000):\n",
    "    if 'retweeted_status' in tweet._json:\n",
    "        continue\n",
    "    else:\n",
    "        result.append(tweet._json)\n",
    "\n",
    "with open('./microtargeting_2020.json', 'w') as f: # Change the filename here to where you want to save it\n",
    "    json.dump(result, f) # This writes the JSON to the file"
   ]
  },
  {
   "cell_type": "code",
   "execution_count": 5,
   "metadata": {},
   "outputs": [],
   "source": [
    "with open(fn, 'r') as f:\n",
    "    x = json.load(f)\n"
   ]
  },
  {
   "cell_type": "markdown",
   "metadata": {},
   "source": [
    "Code that filters the data into what I'm interested in, and saves it as a csv-file"
   ]
  },
  {
   "cell_type": "code",
   "execution_count": 6,
   "metadata": {},
   "outputs": [
    {
     "name": "stdout",
     "output_type": "stream",
     "text": [
      "2020-05-25 17:50:01 108155579 An animated gif on Facebook reminding me to vote. The microtargeting will be insane this year. This is where ad budgets make a huge difference. https://t.co/i2u5z7AuTD\n",
      "2020-05-25 17:20:23 251780757 May 26. #Data -driven #democracy : how #ads , #media , and #microtargeting are changing #elections  https://t.co/onYWYZak5Y\n",
      "2020-05-25 16:32:06 92947297 Could only bear about two minutes of #SackCummings floundering at journo's questions.  Is he the greatest mind we've got? Maybe in the dark art of microtargeting and brainwashing but more generally it sounds like we're better without him.\n",
      "2020-05-25 14:00:43 20596373 @KiaKamgar Microtargeting?\n",
      "2020-05-25 12:50:01 4878198771 Nextdoor's Delicate Partnership With Local Police https://t.co/6cJahefxdx #vidéo-surveillance #discrimination #microtargeting #SocialNetwork\n",
      "2020-05-25 11:29:37 19080151 1. As I had predicted the #KochMachine is moving to try to save the @SenateGOP from an extinction-level event. Trump and the GOP establishment rage against absentee mail-in voting is evidence that the last hope to allow a replay of 2016 via massive microtargeting will fail https://t.co/ec5l31aHG7\n",
      "2020-05-25 11:05:48 1219551214519685125 Want me to get angry about microtargeting, election financing, and data-driven democracy? Join us tomorrow at 4pm Warsaw time, where I'll be interviewing Stefan Turkheimer, Elizabeth Warren's Deputy Political Director :)\n",
      "\n",
      "https://t.co/E5UHOITWd5\n",
      "\n",
      "@franakviacorka\n",
      "2020-05-25 00:56:46 1047834981714853889 Imagining Joe Biden's campaign microtargeting this guy and smiling https://t.co/uwYVT1uTKc\n",
      "2020-05-24 23:29:29 2302171358 @Cobbinrose1 @darrengrimes_ the dehumanisation is media led  and technologically driven by microtargeting operated by the likes of Bannon, Cambridge Analytica, Cummings etc it's an extension of bullying in politics. Adversarial politics engenders bullying.\n",
      "\n",
      "https://t.co/3wfzRKRTb5\n",
      "\n",
      "nobody in power is clean\n",
      "2020-05-24 21:19:05 706647745914863616 @Robism3 @ReadLinkola All of this microtargeting sounds good in practice, but the reality is as soon as you criticize immigration in any way, you will be attacked as a racist.\n",
      "2020-05-24 18:08:11 63225964 @AlanKelloggs It's easy to manipulate people via microtargeting adds and booster lies of slogans if you don't have any responsibility or consequences to your actions. Not as simple when you've then got to run the show, and it's being shown on fast forward.\n",
      "2020-05-24 14:43:35 134140818 @RepCicilline’s Political Microtargeting Limits Bill (limiting to basic demographics / location) is a strong effort. As the article mentions, this bill respects the position @SenTedCruz &amp; others took when discussing how Facebook was going to limit political ads in similar ways. https://t.co/820U0CLbuO\n",
      "2020-05-24 12:21:05 771778032952545280 @Karl_Lauterbach Ich denke, es sollte nicht kleingeredet und nur belächelt werden. Solche konspiratorischen Meinungen werden gerne über gezieltes Microtargeting auf Facebook verbreitet und können viel Übel bewirken (siehe Trump Wahl) und sind gezielte Angriffe auf unserer Demokratie - natürlich\n",
      "2020-05-24 07:42:39 54872305 @xruisx @LennartPlas In de jaren ‘80 was er een niet nader te noemen snackbarexploitant die in een Zeeuws krantje adverteerde over zijn schitterende petit restaurant. Die man was met zijn microtargeting zijn tijd ver vooruit!\n",
      "2020-05-24 07:36:02 371170202 @SarahLi__ @FlyingDok Ja natürlich, nachdem die golden Airforce Ryanair kaum noch was macht geht's jetzt ans Microtargeting. Nachher merken die Bürger noch, dass die gechippt werden! https://t.co/9WYcaSEIcw\n",
      "2020-05-24 02:49:22 49053573 Cyber Security Update: Lawmakers demand answers on Chinese COVID hacks | Biden re-ups criticism of Amazon | House Dem bill seeks to limit microtargeting | https://t.co/AIFjE2yeZ8 / @TheHill\n",
      "2020-05-24 01:16:06 3185540346 The conservative Australian Liberal Party was a Koch Industries i360 voter data microtargeting client at Federal &amp; State elections.\n",
      "\n",
      "Koch funded operations, intentions &amp; impacts in Australia are directly comparable to the US, with a particular emphasis on obstructing renewables. https://t.co/aE9q6hZr5c\n",
      "2020-05-24 00:57:55 94176891 #Microtargeting explicado por Los Simpson https://t.co/SfOkY00ZzF\n",
      "2020-05-23 19:16:10 33394634 @maxwell_berman @johnennis @SheriFlanders Not her fault. She had voter suppression, Comey letter, Russian hacking and microtargeting and #misogyny.\n",
      "2020-05-23 16:07:00 19402921 Inside the influential evangelical group mobilizing to reelect Donald Trump https://t.co/lw6B83pERv by @lhfang. Use of #bigdata #DigitalMarketing #surveillance tech #elections #politics #privacy #voting #suppression #microtargeting\n",
      "2020-05-23 13:22:58 15687597 @mosimiloluwa @RexRoyston or let me put it like this-\n",
      "\n",
      "In some ways you are right. Especially with more data and the microtargeting it will afford, small cultural niches will be important on one hand. \n",
      "\n",
      "But on the other, more people will increasingly have a shared cultural context for most things.\n",
      "2020-05-23 07:50:02 4878198771 Criteo, un géant du marketing de surveillance français https://t.co/gJKTkFOJEh #pixeldetracking.com #microtargeting #consentement #bénéfices\n",
      "2020-05-23 01:55:58 395674143 We need to tackle problems like these at their root, by addressing the underlying business models of microtargeting, data harvesting, and artificial amplification. Facebook is not broken. It's working exactly as intended.\n",
      "2020-05-22 18:15:13 1255164624271441921 • SHISEIDO - Sérum 30 ml\n",
      "\n",
      "White Lucent Microtargeting Spot \n",
      "    Pode ser usado por todos os tipos de pele, sendo anti-manchas que corrige os pontos escuros do rosto.\n",
      "\n",
      "Possível encontrá-lo facilmente no Brasil para venda (média do valor - R$460,00) https://t.co/zXPjjaUC7S\n",
      "2020-05-22 17:25:08 1088482863841005568 Rhode Island Rep. David Cicilline intends to introduce a bill next week that would outlaw microtargeting in online political advertisements.  #ENMNEWSNEWS https://t.co/E0UqiOMvO9\n",
      "2020-05-22 15:15:52 583627270 Good. Microtargeting should not be allowed in political advertising. https://t.co/IyBJWGJPC2\n",
      "2020-05-22 14:15:57 18468610 Glad to see the House Majority focusing on protecting the lives and livelihoods of Americans by...\n",
      "\n",
      "[Checks Paper]\n",
      "\n",
      "Banning microtargeting of online ads? 🤔 https://t.co/iLHykj5Wln\n",
      "2020-05-22 14:10:47 31016872 Scooplet in @MorningTech: Eshoo is courting co-sponsors for another bill to limit political microtargeting, according to a letter we obtained https://t.co/0zmeaV5Ae5\n",
      "2020-05-22 14:08:01 19193301 @PatrickRuffini My nerdy college self’s favorite book in the world was “Applebee’s America” which was all about microtargeting and cute names. So 2004. Sigh.\n",
      "2020-05-22 12:01:08 914758130671734785 Amerikaans Congreslid bereidt wetsvoorstel voor dat microtargeting van Facebook-gebruikers moet verbieden https://t.co/BcW1lDszgh\n",
      "2020-05-22 06:06:20 1233107892602957825 @myersmyersG @SenSchumer Online misinformation has been around since the 1990s. But in 2016 events made it broadly clear that darker forces had emerged: automation, microtargeting and coordination were fueling information campaigns designed to manipulate public opinion at scale.\n",
      "https://t.co/BID2wuRwtL https://t.co/HyS781fyOE\n",
      "2020-05-22 05:24:53 132427750 Democrats propose limits on political ad and banning “microtargeting” targeting in backlash to Facebook https://t.co/QWiBJi1ieZ via @politico #1A?\n",
      "2020-05-22 02:02:16 15914429 @drunkharrycarey @nyillini311 @jjhparker @megw519 @LisaStiegman wow. I'm inadvertently a \"microtargeting\" dream on this one; a true #Illini and #Cubs \"influencer.\" \n",
      "Also: click-through rate, conversions, engagements, buzzword buzzword buzzword.\n",
      "2020-05-22 01:00:56 165196215 @jczetta @ASPCA This is microtargeting. Does the cat change based on owner? Haha\n",
      "2020-05-22 00:22:52 53530962 This is misguided. Microtargeting is critical for political ads. Much of misinformation on FB is not due to the targeting, and in most cases does not come from candidates. It's mainly from organic bad actors. Also, the Ads Library provides transparency.\n",
      "https://t.co/kJGNln9gKZ\n",
      "2020-05-21 21:59:58 19402921 @davidcicilline takes on #political #microtargeting to ensure #election fairness #privacy limit #bigdata #disinformation + #racial #profiling \"Protecting Democracy from Disinformation Act\"...\"limit political advertisers to targeting users based only on age, gender and location\"\n",
      "2020-05-21 21:25:27 816303389340561408 @syoung50000 @ltgrusselhonore @JacquesMorial @Tentoads4truth @GreenARMY_La Yes, @Facebook hasn't done anything about disinformation and microtargeting voters\n",
      "2020-05-21 17:21:09 730603182896746496 No doubt Team Trump is looking at the COVID-19 partisan divide. But now they have Federal power to control where pandemic recovery resources go or don't go in addition to Koch/RU voter data &amp; microtargeting to weaponize. Never let a crisis go to waste!\n",
      "https://t.co/AS44ogZgPL\n",
      "2020-05-21 12:16:59 823115 @JohnJClendening Agree. Thought the Alan Murray discussion and the Gibbs session on microtargeting were particularly strong. Hope you’re well.\n",
      "2020-05-21 06:37:17 3768483141 Great advice on FB targeting👇🏻 In my previous life as a marketing manager, I always had tough time getting others understand the magic of broad audiences instead of microtargeting. https://t.co/BKDwKKw82p\n",
      "2020-05-21 04:24:14 58383912 @Yair_Rosenberg I’m just one guy living my values — if I had a bunch of clout or it seemed like something I was doing could actually make it materially less likely that Trump would lose I’d adjust accordingly — but “microtargeting” implies a level of influence/planning I SUPER don’t have lol.\n"
     ]
    },
    {
     "name": "stdout",
     "output_type": "stream",
     "text": [
      "2020-05-21 01:53:21 582896990 @jason_kint @parscale Coolio, I thought you were saying they DIDN'T. Ban all microtargeting! (or at least for political ads)\n",
      "2020-05-21 01:38:27 75209239 @Byron_Perry @parscale all evidence says they did a ton. they talked about how they did, too. Facebook was under pressure to ban microtargeting in 2020 (after Google and Twitter did) when their \"leaked\" memo came out. It even references custom audiences in that paragraph...which is microtargeting.\n",
      "2020-05-21 01:33:17 582896990 @jason_kint @parscale Did they not do a lot of microtargeting? Serious question https://t.co/ecuyXE3emF\n",
      "2020-05-21 01:29:35 75209239 It is worth noting, Facebook still loves Parscale. Although this \"leaked\" memo still makes zero sense to me, so much so I still believe it was a plant by Facebook comms. ps @parscale's group wasn't microtargeting, lol. https://t.co/YyO3uNYYNA\n",
      "2020-05-21 00:03:32 892595667004162048 @laylooosh When Pat Benatar said \"Love is a Battlefield\".... she was talking about the battle that's microtargeting one person in a social media audience of hundreds 😤\n",
      "2020-05-20 20:38:44 1075862461582958592 @mike_paroulek @JohnWHuber And of course all that polling data you think Manafort passed on to \"Russians\" was totally helpful to their non-existent microtargeting effort on social media.  Concord spent more on red Texas than on the entire Rust Belt.\n",
      "2020-05-20 18:08:11 15061214 @rohittal @David_Dively @JJohnsonLaw @Jeff424V @rooshv He's a microtargeting grifter. Playing the Glendale game. Future 5th husband to a Kardashian.\n",
      "2020-05-20 14:49:23 131936689 #PageSpring excellent session on microtargeting by Robert Gibbs and Andrew Bleeker about new ways to find the Holy Grail of PR - how to make organizations' key stakeholders change opinions and behaviors. https://t.co/Skxd4q6BRc\n",
      "2020-05-20 10:39:28 202915398 #Facebook's micro-targeting in ads is like a massive, unethical, psychological experiment. Here's how we stop it: https://t.co/ro3V3wgChR\n",
      "2020-05-20 06:23:47 1124417117560950784 📰 il #quotidiano di #NazioneFutura \n",
      "\n",
      "\"Oggi la politica parla in maniera confusa e generica all’elettorato, il Microtargeting è un buon canale per arrivare in modo diretto al cuore delle persone. Cosa significa comunicare tramite il microtargeting?...\n",
      "https://t.co/AuIIR1fQPw\n",
      "2020-05-20 00:15:30 1012684464 If priming and microtargeting were to extend beyond online ads, towards the curation of everyday real-world scenarios, as a stimulus, that would amount to quite a tour de force. Yes, that demands a bit more social engineering, but in our hyper-connective age it's quite possible.\n",
      "2020-05-20 00:04:51 921362434279034881 @AriadnamMercado es sobre las implicaciones en materia protección de datos personales y vulneraciones a la privacidad, que tiene el microtargeting político en Facebook y si actualmente hay herramientas legales efectivas para proteger al usuario\n",
      "pd. el documental es The Great Hack jaja\n",
      "2020-05-19 22:33:12 1488034747 #Facebook's micro-targeting in ads is like a massive, unethical, psychological experiment. Here's how we stop it: https://t.co/gcajICd7uI\n",
      "2020-05-19 21:18:09 1480262203 @conorjrogers I prefer this representation. Coincidentally, that's my face when people ask me about microtargeting. https://t.co/NhFpJM5D8h\n",
      "2020-05-19 15:29:32 40447730 Oh ... NYT Tech galaxy brains are ok with microtargeting now? https://t.co/HebbQtD4Fp\n",
      "2020-05-19 14:56:47 4656989477 .@SumOfUs &amp; @fightfortheftr “used Facebook's microtargeting to microtarget an ad directly to Facebook executives telling them to stop allowing this kind of microtargeting” https://t.co/CvGDjmTVjs via @imgur\n",
      "2020-05-19 14:22:06 2325836922 #Facebook's micro-targeting in ads is like a massive, unethical, psychological experiment. Here's how we stop it: https://t.co/pCb1BZADQL\n",
      "2020-05-19 03:51:44 821751290590035968 @LuluLemew @File411 Facebook is the devil. The people in my life, like those you describe, are the ones who waste brain cells on that damn site.  More manipulative than even Fox or Limbaugh. The microtargeting should be illegal. Just my opinion.\n",
      "2020-05-18 22:32:09 849440524541067264 @NeeNeinNyetNo @TVietor08 Wasn't one of the predominant theories (from these same people) about Obama's win in 08 about his campaigns savvy use of social media and demographic microtargeting? Social media is even more important now than then so why is it different lmao\n",
      "2020-05-18 22:02:30 960591441083985921 Esto es algo que seguramente todo enfermito de los diálogos de los simpson lo sabe, pero hay muchos que no. Y así es como el sentido común termina cimentándose sobre hechos erróneos perpetrados cíclicamente y todos somos víctimas de la posverdad, el microtargeting y la luz mala.\n",
      "2020-05-18 20:42:54 1012684464 A wrong assumption about priming and microtargeting is that it's efficacy is always dependent on the level of suggestibility of targeted individuals. Indeed there are those with interests in trying to establish precisely such a link.\n",
      "2020-05-18 20:06:31 243032876 Repeating “opt-in” and “anonymized” sugarcoats a microtargeting industry that has a track record of damaging our democracy. We must not allow them to make their practices a new, acceptable normal. https://t.co/ez59csDD9n\n",
      "2020-05-18 19:55:21 243032876 New year, new style. Companies in the shadows have decided.. time for the bright lights! This story from an MI protest isn't even the first time a microtargeting company tracked people from a political event to their front doors... https://t.co/YIMOljBfQ2\n",
      "2020-05-18 19:46:21 243032876 So who is VoteMAP? They apparently sell location based political microtargeting. Their  business model? Linking peoples politics and preferences...to their locations then targeting them with advertising. But... https://t.co/QP2nSYr7uc\n",
      "2020-05-18 18:05:04 15290559 Elections in the Age of Microtargeting #RetroPost https://t.co/4oRXJHe4Qt\n",
      "2020-05-18 15:47:50 1104414776636121089 Meanwhile the D.N.C.'s voter data and microtargeting apparatus is about a decade behind the Trump-Parscale machine. Democrats need to rebuild their digital campaign infrastructure from the ground up in order to be competitive in this cycle or any others going forward.\n",
      "2020-05-18 07:31:04 1177072203608854529 @youwouldknow It's 5G microtargeting. /s\n",
      "2020-05-17 20:46:10 83616901 Rusland ziet desinformatie als dé kans om Europa verder uiteen te splijten. #tegenlicht\n",
      "\n",
      "Lees hier hoe deze politieke oorlogsvoering werkt. https://t.co/RzieyCCPV3\n",
      "2020-05-17 19:18:55 33394634 @CapehartJ No it's not. Voter suppression/Comey letter/Russian hacking &amp; microtargeting/sexism etc.\n",
      "2020-05-17 15:32:38 3167139808 @tify330 @david_darmofal @KamalaHarris ...that enthusiasm didn’t translate to the candidate.\n",
      "\n",
      "3. Winning swing states is mostly a matter of microtargeting and strategy, not enthusiasm. That was tactic that Trump’s team and hell even Russia in the blue wall states that Clinton lost in.\n",
      "2020-05-17 14:17:35 75209239 And here is one of Trump campaign leads spreading the same nonsense as Zuckerberg that restricting microtargeting of political ads would somehow harm speech when instead it would allow for counterspeech and debate rather than targeting vulnerable with disinfo in darkness. https://t.co/j6pTd9W9mh\n"
     ]
    }
   ],
   "source": [
    "import csv\n",
    "import xlsxwriter\n",
    "\n",
    "#The two lines of code below open a file and then prep it for storing data\n",
    "csvFile = open('./microtargeting_2020.csv', 'a')\n",
    "#Use csv Writer\n",
    "csvWriter = csv.writer(csvFile)\n",
    "\n",
    "for tweet in tweepy.Cursor(api.search, \"2020\" and \"microtargeting\", tweet_mode=\"extended\").items(1000):\n",
    "    if 'retweeted_status' in tweet._json:\n",
    "        continue\n",
    "    else: \n",
    "# Write a row to the CSV file. \n",
    "        csvWriter.writerow([tweet.created_at, tweet.user.id, tweet.full_text])\n",
    "        print(tweet.created_at, tweet.user.id, tweet.full_text)\n",
    "csvFile.close()"
   ]
  },
  {
   "cell_type": "markdown",
   "metadata": {},
   "source": [
    "Counting the tweets"
   ]
  },
  {
   "cell_type": "code",
   "execution_count": 7,
   "metadata": {},
   "outputs": [
    {
     "name": "stdout",
     "output_type": "stream",
     "text": [
      "379\n"
     ]
    }
   ],
   "source": [
    "api = tweepy.API(auth, wait_on_rate_limit=True)\n",
    "\n",
    "result = []\n",
    "counter = 0\n",
    "for tweet in tweepy.Cursor(api.search, \"2020\" and \"microtargeting\", tweet_mode=\"extended\").items(1000):\n",
    "    result.append(tweet._json)\n",
    "    counter = counter + 1\n",
    "    \n",
    "print(counter)"
   ]
  },
  {
   "cell_type": "markdown",
   "metadata": {},
   "source": [
    "Extracting entities and saving extracted entities into a csv file"
   ]
  },
  {
   "cell_type": "code",
   "execution_count": 8,
   "metadata": {},
   "outputs": [
    {
     "name": "stdout",
     "output_type": "stream",
     "text": [
      "[(this year,), (May 26, Data), (about two minutes, journo), (), (Nextdoor's Delicate Partnership With Local Police, SocialNetwork), (1, KochMachine, Trump, GOP, 2016), (tomorrow, 4pm, Warsaw, Stefan Turkheimer, Elizabeth Warren's, https://t.co/E5UHOITWd5), (Joe Biden's,), (Bannon, Cambridge Analytica, Cummings), (@ReadLinkola,), (), (@SenTedCruz &amp, Facebook), (Ich, nur belächelt werden, Solche konspiratorischen, Microtargeting auf Facebook, können viel Übel bewirken, Trump Wahl, gezielte Angriffe auf, Demokratie - natürlich), (@xruisx, Zeeuws, zijn schitterende petit, zijn, zijn tijd ver vooruit), (Airforce Ryanair, macht geht's, Bürger), (Chinese, COVID, Amazon | House Dem, |), (Australian Liberal Party, Koch Industries i360, Federal &amp, State, Koch, Australia, US), (Microtargeting, Los Simpson), (@johnennis, Comey, Russian), (Donald Trump, #bigdata #, #politics, #privacy #), (@mosimiloluwa @RexRoyston,), (Criteo, un, du marketing de surveillance français, #pixeldetracking.com #, #, #), (), (SHISEIDO, encontrá-lo, Brasil), (Rhode Island, David Cicilline, next week), (), (House, Americans, Checks Paper), (Eshoo,), (“Applebee’s America, 2004), (Amerikaans Congreslid, van Facebook-gebruikers), (the 1990s, 2016), (Democrats, 1A), (@drunkharrycarey @nyillini311 @jjhparker, Illini, Cubs), (@jczetta @ASPCA This,), (FB, the Ads Library), (@davidcicilline, #election fairness, #privacy, #bigdata #disinformation, #racial #, Protecting Democracy from Disinformation), (@ltgrusselhonore @JacquesMorial, @Facebook), (Team Trump, Koch/RU voter data &amp), (Alan Murray, Gibbs), (), (Trump,), (@jason_kint @parscale Coolio,), (@parscale, 2020, Google, Twitter), (), (Parscale, zero, Facebook comms, ps @parscale's, lol), (Pat Benatar, Love, one, hundreds), (Manafort, Russians, Concord, Texas, Rust Belt), (Glendale, 5th, Kardashian), (Robert Gibbs, Andrew Bleeker, the Holy Grail of PR), (Facebook,), (📰 il, quotidiano, NazioneFutura, un, modo diretto al cuore delle persone, Cosa), (), (@AriadnamMercado, las implicaciones, que tiene el, Facebook y, efectivas para, al usuario, el documental), (Facebook,), (), (NYT Tech,), (&amp, @fightfortheftr, Facebook, Facebook), (Facebook,), (@File411 Facebook, Fox or Limbaugh), (Obama, 08), (Esto, enfermito de los diálogos de los simpson lo sabe, así es como el sentido, termina cimentándose sobre, y todos, el, y la, mala), (), (), (New year, first, https://t.co/YIMOljBfQ2), (), (), (about a decade, Trump-Parscale, Democrats), (@youwouldknow, 5), (Rusland ziet, Europa), (Russian hacking &amp,), (@KamalaHarris, 3, Trump, Russia, Clinton), (one, Trump, Zuckerberg)]\n",
      "(this year,)\n",
      "(May 26, Data)\n",
      "(about two minutes, journo)\n",
      "()\n",
      "(Nextdoor's Delicate Partnership With Local Police, SocialNetwork)\n",
      "(1, KochMachine, Trump, GOP, 2016)\n",
      "(tomorrow, 4pm, Warsaw, Stefan Turkheimer, Elizabeth Warren's, https://t.co/E5UHOITWd5)\n",
      "(Joe Biden's,)\n",
      "(Bannon, Cambridge Analytica, Cummings)\n",
      "(@ReadLinkola,)\n",
      "()\n",
      "(@SenTedCruz &amp, Facebook)\n",
      "(Ich, nur belächelt werden, Solche konspiratorischen, Microtargeting auf Facebook, können viel Übel bewirken, Trump Wahl, gezielte Angriffe auf, Demokratie - natürlich)\n",
      "(@xruisx, Zeeuws, zijn schitterende petit, zijn, zijn tijd ver vooruit)\n",
      "(Airforce Ryanair, macht geht's, Bürger)\n",
      "(Chinese, COVID, Amazon | House Dem, |)\n",
      "(Australian Liberal Party, Koch Industries i360, Federal &amp, State, Koch, Australia, US)\n",
      "(Microtargeting, Los Simpson)\n",
      "(@johnennis, Comey, Russian)\n",
      "(Donald Trump, #bigdata #, #politics, #privacy #)\n",
      "(@mosimiloluwa @RexRoyston,)\n",
      "(Criteo, un, du marketing de surveillance français, #pixeldetracking.com #, #, #)\n",
      "()\n",
      "(SHISEIDO, encontrá-lo, Brasil)\n",
      "(Rhode Island, David Cicilline, next week)\n",
      "()\n",
      "(House, Americans, Checks Paper)\n",
      "(Eshoo,)\n",
      "(“Applebee’s America, 2004)\n",
      "(Amerikaans Congreslid, van Facebook-gebruikers)\n",
      "(the 1990s, 2016)\n",
      "(Democrats, 1A)\n",
      "(@drunkharrycarey @nyillini311 @jjhparker, Illini, Cubs)\n",
      "(@jczetta @ASPCA This,)\n",
      "(FB, the Ads Library)\n",
      "(@davidcicilline, #election fairness, #privacy, #bigdata #disinformation, #racial #, Protecting Democracy from Disinformation)\n",
      "(@ltgrusselhonore @JacquesMorial, @Facebook)\n",
      "(Team Trump, Koch/RU voter data &amp)\n",
      "(Alan Murray, Gibbs)\n",
      "()\n",
      "(Trump,)\n",
      "(@jason_kint @parscale Coolio,)\n",
      "(@parscale, 2020, Google, Twitter)\n",
      "()\n",
      "(Parscale, zero, Facebook comms, ps @parscale's, lol)\n",
      "(Pat Benatar, Love, one, hundreds)\n",
      "(Manafort, Russians, Concord, Texas, Rust Belt)\n",
      "(Glendale, 5th, Kardashian)\n",
      "(Robert Gibbs, Andrew Bleeker, the Holy Grail of PR)\n",
      "(Facebook,)\n",
      "(📰 il, quotidiano, NazioneFutura, un, modo diretto al cuore delle persone, Cosa)\n",
      "()\n",
      "(@AriadnamMercado, las implicaciones, que tiene el, Facebook y, efectivas para, al usuario, el documental)\n",
      "(Facebook,)\n",
      "()\n",
      "(NYT Tech,)\n",
      "(&amp, @fightfortheftr, Facebook, Facebook)\n",
      "(Facebook,)\n",
      "(@File411 Facebook, Fox or Limbaugh)\n",
      "(Obama, 08)\n",
      "(Esto, enfermito de los diálogos de los simpson lo sabe, así es como el sentido, termina cimentándose sobre, y todos, el, y la, mala)\n",
      "()\n",
      "()\n",
      "(New year, first, https://t.co/YIMOljBfQ2)\n",
      "()\n",
      "()\n",
      "(about a decade, Trump-Parscale, Democrats)\n",
      "(@youwouldknow, 5)\n",
      "(Rusland ziet, Europa)\n",
      "(Russian hacking &amp,)\n",
      "(@KamalaHarris, 3, Trump, Russia, Clinton)\n",
      "(one, Trump, Zuckerberg)\n"
     ]
    }
   ],
   "source": [
    "import spacy \n",
    "nlp = spacy.load('en') \n",
    "api = tweepy.API(auth, wait_on_rate_limit=True) \n",
    "entities = [] \n",
    "for tweet in result: \n",
    "    if 'retweeted_status' in tweet: \n",
    "        continue \n",
    "    else: \n",
    "        doc = nlp(tweet[\"full_text\"])\n",
    "        entities.append(doc.ents)\n",
    "\n",
    "print(entities)\n",
    "\n",
    "\n",
    "#The two lines of code below open a file and then prep it for storing data\n",
    "csvFile = open('microtargeting_2020_entities.csv', \"w\")\n",
    "#Use csv Writer\n",
    "csvWriter = csv.writer(csvFile)\n",
    "\n",
    "for ent in entities:\n",
    "# Write a row to the CSV file. \n",
    "        csvWriter.writerow(ent)\n",
    "        print(ent)\n",
    "csvFile.close()\n"
   ]
  },
  {
   "cell_type": "markdown",
   "metadata": {},
   "source": [
    "\n",
    "\n"
   ]
  }
 ],
 "metadata": {
  "kernelspec": {
   "display_name": "Python 3",
   "language": "python",
   "name": "python3"
  },
  "language_info": {
   "codemirror_mode": {
    "name": "ipython",
    "version": 3
   },
   "file_extension": ".py",
   "mimetype": "text/x-python",
   "name": "python",
   "nbconvert_exporter": "python",
   "pygments_lexer": "ipython3",
   "version": "3.7.4"
  }
 },
 "nbformat": 4,
 "nbformat_minor": 2
}
