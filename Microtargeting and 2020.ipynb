{
 "cells": [
  {
   "cell_type": "markdown",
   "metadata": {},
   "source": [
    "MICROTARGETING AND THE U.S. 2020 ELECTION"
   ]
  },
  {
   "attachments": {},
   "cell_type": "markdown",
   "metadata": {},
   "source": [
    "What is the discourse of Twitter about microtargeting and the 2020 U.S. presidential election? \n",
    "\n",
    "The background to this question is that micro-targeting during the 2016 presidential campaign increased the likelihood for Republicans, especially those without a college degree (Donald Trump’s core supporters), to vote by 5-10 percent (Liberini et al. 2018, 5). In other words, micro-targeting might have helped Donald Trump win the election, which is further reflected in the fact that the Trump campaign spent 47 percent of its budget on digital media, compared to the Clinton’s campaign’s 8 percent (Liberini et al. 2018, 2). Liberini expresses this to be “further evidence that recent political outcomes, such as Brexit and the election of President Trump, might be largely due to the use of data analytics” (Kiggins 2018).\n",
    "\n",
    "Liberini, Federica et al. 2018. The Warwick Economics Research Paper Series (TWERPS) Politics in the Facebook Era Evidence from the 2016 US Presidential Elections. University of Warwick, Department of Economics. https://ideas.repec.org/p/wrk/warwec/1181.html (May 2, 2020).\n",
    "\n",
    "Kiggins, Sheila. 2018. “Facebook Political Advertising Boosted Trump Turnout by up to Ten per Cent in the 2016 Elections, Research Finds.” https://warwick.ac.uk/newsandevents/pressreleases/facebook_political_advertising/ (May 5, 2020)."
   ]
  },
  {
   "cell_type": "code",
   "execution_count": 19,
   "metadata": {},
   "outputs": [],
   "source": [
    "import tweepy\n",
    "from twitter_authentication import CONSUMER_KEY, CONSUMER_SECRET, ACCESS_TOKEN, ACCESS_TOKEN_SECRET\n",
    "\n",
    "auth = tweepy.OAuthHandler(CONSUMER_KEY, CONSUMER_SECRET)\n",
    "auth.set_access_token(ACCESS_TOKEN, ACCESS_TOKEN_SECRET)\n",
    "\n",
    "fn = './microtargeting_2020.json'\n"
   ]
  },
  {
   "cell_type": "code",
   "execution_count": 21,
   "metadata": {},
   "outputs": [],
   "source": [
    "import json\n",
    "import csv\n",
    "from datetime import date\n",
    "from datetime import datetime\n",
    "import requests\n",
    "import pprint\n",
    "import time\n",
    "import pandas as pd\n",
    "import matplotlib.pyplot as plt"
   ]
  },
  {
   "cell_type": "code",
   "execution_count": 23,
   "metadata": {},
   "outputs": [],
   "source": [
    "api = tweepy.API(auth, wait_on_rate_limit=True)\n",
    "result = []\n",
    "for tweet in tweepy.Cursor(api.search, \"2020\" and \"microtargeting\", tweet_mode=\"extended\").items(1000):\n",
    "    if 'retweeted_status' in tweet._json:\n",
    "        continue\n",
    "    else:\n",
    "        result.append(tweet._json)\n",
    "\n",
    "with open('./microtargeting_2020.json', 'w') as f: # Change the filename here to where you want to save it\n",
    "    json.dump(result, f) # This writes the JSON to the file"
   ]
  },
  {
   "cell_type": "code",
   "execution_count": 28,
   "metadata": {},
   "outputs": [
    {
     "ename": "JSONDecodeError",
     "evalue": "Extra data: line 1 column 275095 (char 275094)",
     "output_type": "error",
     "traceback": [
      "\u001b[0;31m---------------------------------------------------------------------------\u001b[0m",
      "\u001b[0;31mJSONDecodeError\u001b[0m                           Traceback (most recent call last)",
      "\u001b[0;32m<ipython-input-28-62cc885016f6>\u001b[0m in \u001b[0;36m<module>\u001b[0;34m\u001b[0m\n\u001b[1;32m      1\u001b[0m \u001b[0;32mwith\u001b[0m \u001b[0mopen\u001b[0m\u001b[0;34m(\u001b[0m\u001b[0mfn\u001b[0m\u001b[0;34m,\u001b[0m \u001b[0;34m'r'\u001b[0m\u001b[0;34m)\u001b[0m \u001b[0;32mas\u001b[0m \u001b[0mf\u001b[0m\u001b[0;34m:\u001b[0m\u001b[0;34m\u001b[0m\u001b[0;34m\u001b[0m\u001b[0m\n\u001b[0;32m----> 2\u001b[0;31m     \u001b[0mx\u001b[0m \u001b[0;34m=\u001b[0m \u001b[0mjson\u001b[0m\u001b[0;34m.\u001b[0m\u001b[0mload\u001b[0m\u001b[0;34m(\u001b[0m\u001b[0mf\u001b[0m\u001b[0;34m)\u001b[0m\u001b[0;34m\u001b[0m\u001b[0;34m\u001b[0m\u001b[0m\n\u001b[0m",
      "\u001b[0;32m/Applications/anaconda3/lib/python3.7/json/__init__.py\u001b[0m in \u001b[0;36mload\u001b[0;34m(fp, cls, object_hook, parse_float, parse_int, parse_constant, object_pairs_hook, **kw)\u001b[0m\n\u001b[1;32m    294\u001b[0m         \u001b[0mcls\u001b[0m\u001b[0;34m=\u001b[0m\u001b[0mcls\u001b[0m\u001b[0;34m,\u001b[0m \u001b[0mobject_hook\u001b[0m\u001b[0;34m=\u001b[0m\u001b[0mobject_hook\u001b[0m\u001b[0;34m,\u001b[0m\u001b[0;34m\u001b[0m\u001b[0;34m\u001b[0m\u001b[0m\n\u001b[1;32m    295\u001b[0m         \u001b[0mparse_float\u001b[0m\u001b[0;34m=\u001b[0m\u001b[0mparse_float\u001b[0m\u001b[0;34m,\u001b[0m \u001b[0mparse_int\u001b[0m\u001b[0;34m=\u001b[0m\u001b[0mparse_int\u001b[0m\u001b[0;34m,\u001b[0m\u001b[0;34m\u001b[0m\u001b[0;34m\u001b[0m\u001b[0m\n\u001b[0;32m--> 296\u001b[0;31m         parse_constant=parse_constant, object_pairs_hook=object_pairs_hook, **kw)\n\u001b[0m\u001b[1;32m    297\u001b[0m \u001b[0;34m\u001b[0m\u001b[0m\n\u001b[1;32m    298\u001b[0m \u001b[0;34m\u001b[0m\u001b[0m\n",
      "\u001b[0;32m/Applications/anaconda3/lib/python3.7/json/__init__.py\u001b[0m in \u001b[0;36mloads\u001b[0;34m(s, encoding, cls, object_hook, parse_float, parse_int, parse_constant, object_pairs_hook, **kw)\u001b[0m\n\u001b[1;32m    346\u001b[0m             \u001b[0mparse_int\u001b[0m \u001b[0;32mis\u001b[0m \u001b[0;32mNone\u001b[0m \u001b[0;32mand\u001b[0m \u001b[0mparse_float\u001b[0m \u001b[0;32mis\u001b[0m \u001b[0;32mNone\u001b[0m \u001b[0;32mand\u001b[0m\u001b[0;34m\u001b[0m\u001b[0;34m\u001b[0m\u001b[0m\n\u001b[1;32m    347\u001b[0m             parse_constant is None and object_pairs_hook is None and not kw):\n\u001b[0;32m--> 348\u001b[0;31m         \u001b[0;32mreturn\u001b[0m \u001b[0m_default_decoder\u001b[0m\u001b[0;34m.\u001b[0m\u001b[0mdecode\u001b[0m\u001b[0;34m(\u001b[0m\u001b[0ms\u001b[0m\u001b[0;34m)\u001b[0m\u001b[0;34m\u001b[0m\u001b[0;34m\u001b[0m\u001b[0m\n\u001b[0m\u001b[1;32m    349\u001b[0m     \u001b[0;32mif\u001b[0m \u001b[0mcls\u001b[0m \u001b[0;32mis\u001b[0m \u001b[0;32mNone\u001b[0m\u001b[0;34m:\u001b[0m\u001b[0;34m\u001b[0m\u001b[0;34m\u001b[0m\u001b[0m\n\u001b[1;32m    350\u001b[0m         \u001b[0mcls\u001b[0m \u001b[0;34m=\u001b[0m \u001b[0mJSONDecoder\u001b[0m\u001b[0;34m\u001b[0m\u001b[0;34m\u001b[0m\u001b[0m\n",
      "\u001b[0;32m/Applications/anaconda3/lib/python3.7/json/decoder.py\u001b[0m in \u001b[0;36mdecode\u001b[0;34m(self, s, _w)\u001b[0m\n\u001b[1;32m    338\u001b[0m         \u001b[0mend\u001b[0m \u001b[0;34m=\u001b[0m \u001b[0m_w\u001b[0m\u001b[0;34m(\u001b[0m\u001b[0ms\u001b[0m\u001b[0;34m,\u001b[0m \u001b[0mend\u001b[0m\u001b[0;34m)\u001b[0m\u001b[0;34m.\u001b[0m\u001b[0mend\u001b[0m\u001b[0;34m(\u001b[0m\u001b[0;34m)\u001b[0m\u001b[0;34m\u001b[0m\u001b[0;34m\u001b[0m\u001b[0m\n\u001b[1;32m    339\u001b[0m         \u001b[0;32mif\u001b[0m \u001b[0mend\u001b[0m \u001b[0;34m!=\u001b[0m \u001b[0mlen\u001b[0m\u001b[0;34m(\u001b[0m\u001b[0ms\u001b[0m\u001b[0;34m)\u001b[0m\u001b[0;34m:\u001b[0m\u001b[0;34m\u001b[0m\u001b[0;34m\u001b[0m\u001b[0m\n\u001b[0;32m--> 340\u001b[0;31m             \u001b[0;32mraise\u001b[0m \u001b[0mJSONDecodeError\u001b[0m\u001b[0;34m(\u001b[0m\u001b[0;34m\"Extra data\"\u001b[0m\u001b[0;34m,\u001b[0m \u001b[0ms\u001b[0m\u001b[0;34m,\u001b[0m \u001b[0mend\u001b[0m\u001b[0;34m)\u001b[0m\u001b[0;34m\u001b[0m\u001b[0;34m\u001b[0m\u001b[0m\n\u001b[0m\u001b[1;32m    341\u001b[0m         \u001b[0;32mreturn\u001b[0m \u001b[0mobj\u001b[0m\u001b[0;34m\u001b[0m\u001b[0;34m\u001b[0m\u001b[0m\n\u001b[1;32m    342\u001b[0m \u001b[0;34m\u001b[0m\u001b[0m\n",
      "\u001b[0;31mJSONDecodeError\u001b[0m: Extra data: line 1 column 275095 (char 275094)"
     ]
    }
   ],
   "source": [
    "with open(fn, 'r') as f:\n",
    "    x = json.load(f)\n"
   ]
  },
  {
   "cell_type": "markdown",
   "metadata": {},
   "source": [
    "Code that filters the data into what I'm interested in, and saves it as a csv-file"
   ]
  },
  {
   "cell_type": "code",
   "execution_count": 35,
   "metadata": {},
   "outputs": [
    {
     "name": "stdout",
     "output_type": "stream",
     "text": [
      "2020-05-19 15:29:32 40447730 Oh ... NYT Tech galaxy brains are ok with microtargeting now? https://t.co/HebbQtD4Fp\n",
      "2020-05-19 14:56:47 4656989477 .@SumOfUs &amp; @fightfortheftr “used Facebook's microtargeting to microtarget an ad directly to Facebook executives telling them to stop allowing this kind of microtargeting” https://t.co/CvGDjmTVjs via @imgur\n",
      "2020-05-19 14:22:06 2325836922 #Facebook's micro-targeting in ads is like a massive, unethical, psychological experiment. Here's how we stop it: https://t.co/pCb1BZADQL\n",
      "2020-05-19 07:17:41 737517318 To prevent targeting of aggressive trolling in # metoo &amp; similar movements it may be important to consider how to protect against nefarious actors deliberately aggressively microtargeting people declaring a status that might indicate a level of vulnerability.\n",
      "2020-05-19 03:51:44 821751290590035968 @LuluLemew @File411 Facebook is the devil. The people in my life, like those you describe, are the ones who waste brain cells on that damn site.  More manipulative than even Fox or Limbaugh. The microtargeting should be illegal. Just my opinion.\n",
      "2020-05-18 22:32:09 849440524541067264 @NeeNeinNyetNo @TVietor08 Wasn't one of the predominant theories (from these same people) about Obama's win in 08 about his campaigns savvy use of social media and demographic microtargeting? Social media is even more important now than then so why is it different lmao\n",
      "2020-05-18 22:02:30 960591441083985921 Esto es algo que seguramente todo enfermito de los diálogos de los simpson lo sabe, pero hay muchos que no. Y así es como el sentido común termina cimentándose sobre hechos erróneos perpetrados cíclicamente y todos somos víctimas de la posverdad, el microtargeting y la luz mala.\n",
      "2020-05-18 21:11:40 1012684464 If priming and microtargeting is extends beyond online ads, towards the curatation of everyday real world scenarios, as a stimulus it can amount to quite a tour de force. It involves more social psy/ social engineering. But in our hyper-connective age, it's readily executable.\n",
      "2020-05-18 20:42:54 1012684464 A wrong assumption about priming and microtargeting is that it's efficacy is always dependent on the level of suggestibility of targeted individuals. Indeed there are those with interests in trying to establish precisely such a link.\n",
      "2020-05-18 20:06:31 243032876 Repeating “opt-in” and “anonymized” sugarcoats a microtargeting industry that has a track record of damaging our democracy. We must not allow them to make their practices a new, acceptable normal. https://t.co/ez59csDD9n\n",
      "2020-05-18 19:55:21 243032876 New year, new style. Companies in the shadows have decided.. time for the bright lights! This story from an MI protest isn't even the first time a microtargeting company tracked people from a political event to their front doors... https://t.co/YIMOljBfQ2\n",
      "2020-05-18 19:46:21 243032876 So who is VoteMAP? They apparently sell location based political microtargeting. Their  business model? Linking peoples politics and preferences...to their locations then targeting them with advertising. But... https://t.co/QP2nSYr7uc\n",
      "2020-05-18 18:05:04 15290559 Elections in the Age of Microtargeting #RetroPost https://t.co/4oRXJHe4Qt\n",
      "2020-05-18 15:47:50 1104414776636121089 Meanwhile the D.N.C.'s voter data and microtargeting apparatus is about a decade behind the Trump-Parscale machine. Democrats need to rebuild their digital campaign infrastructure from the ground up in order to be competitive in this cycle or any others going forward.\n",
      "2020-05-18 07:31:04 1177072203608854529 @youwouldknow It's 5G microtargeting. /s\n",
      "2020-05-17 20:46:10 83616901 Rusland ziet desinformatie als dé kans om Europa verder uiteen te splijten. #tegenlicht\n",
      "\n",
      "Lees hier hoe deze politieke oorlogsvoering werkt. https://t.co/RzieyCCPV3\n",
      "2020-05-17 19:18:55 33394634 @CapehartJ No it's not. Voter suppression/Comey letter/Russian hacking &amp; microtargeting/sexism etc.\n",
      "2020-05-17 15:32:38 3167139808 @tify330 @david_darmofal @KamalaHarris ...that enthusiasm didn’t translate to the candidate.\n",
      "\n",
      "3. Winning swing states is mostly a matter of microtargeting and strategy, not enthusiasm. That was tactic that Trump’s team and hell even Russia in the blue wall states that Clinton lost in.\n",
      "2020-05-17 14:17:35 75209239 And here is one of Trump campaign leads spreading the same nonsense as Zuckerberg that restricting microtargeting of political ads would somehow harm speech when instead it would allow for counterspeech and debate rather than targeting vulnerable with disinfo in darkness. https://t.co/j6pTd9W9mh\n",
      "2020-05-17 05:14:08 639193 I don’t think I’ve ever RT’ed a promoted tweet, but I love trains and this video of trains going through a train wash is oddly soothing. Nice job, whoever at BI is microtargeting me. https://t.co/ZsCXYIL73g\n",
      "2020-05-17 03:23:53 75209239 @karaswisher Failure to move against microtargeting political ads will be the great failure here. Because Kaplan, Thiel and threats from POTUS campaign were too much for their spines again. https://t.co/VOwSCCYwFx\n",
      "2020-05-17 03:15:51 75209239 ps this makes no sense by Zuckerberg. Microtargeting of political ads is the opposite of what CEO preaches here as all counterspeech is eliminated  when ads are microtargeted. Ban microtargeting if you truly want sunlight to disinfect the lies o spineless leadership. (4 of 4) https://t.co/B8ePBmHv4w\n",
      "2020-05-17 03:15:50 75209239 It was only months ago when current and former employees were protesting, lawmakers were speaking out, FEC was writing opeds but Facebook rolled everyone. Now everyone seems willing to let the Brad Parscale disinfo +  microtargeting +   suppression show play out again. (2 of 4)\n",
      "2020-05-17 03:15:50 75209239 There is little more insane right now than how a meeting between Facebook CEO, Peter Thiel and the President resulted in Facebook not banning microtargeting of political ads unlike Google and Twitter now 6 months left in a mostly digital election under quarantines... (1 of 4) https://t.co/XKCzerhGot https://t.co/EBsJgOSD7i\n",
      "2020-05-17 01:10:45 1069230488 This, my friends, is the most hopeful tweet I've ever seen from a US President, himself a mafia product via Facebook, Instagram, Twitter &amp; Google.\n",
      "\n",
      "What \"illegal situation\"?\n",
      "\n",
      "Algorithms no longer available to the highest bidder?\n",
      "\n",
      "No more big private data?\n",
      "\n",
      "No more microtargeting? https://t.co/Pl69IdzkE5\n",
      "2020-05-16 18:36:53 952013153554006018 @MollyJongFast But thanks to microtargeting, the only people who will ever see this ad are young voters, not the olds.\n",
      "\n",
      "(oh, wait)\n",
      "2020-05-16 18:35:32 1252287712012513281 Microtargeting posts to individually piss off each of my 32 followers - tell me what pisses you off below\n",
      "2020-05-16 17:47:56 1183197569666576391 @unenergy @drvox Bit more than that this time around.  Coordinated disinformation networks microtargeting skimmed populations in coordination with foreign adversaries.\n",
      "\n",
      "Stick that in your pipe and smoke it folks.\n",
      "2020-05-16 17:45:41 235284295 @Bright Interessant. Zonder Facebook een stuk minder kans voor hem om verkiezingen te winnen. Microtargeting / #CambridgeAnalytica ?!\n",
      "2020-05-16 17:29:32 238616650 @davidaxelrod Parscale and the Russians are probably microtargeting the lunatic fringe in those states to agitate them and push them to act. Just an educated guess on my part.  Based on actual revelations about their disinformation campaigns leading up to 2016, and continuing to this day.\n",
      "2020-05-16 17:24:09 1045374655362748417 Facebook's a real fucking problem, isn't it? Until that mess of disinfo, microtargeting and general data harvesting shit gets sorted we're all kind of fucked, eh?\n",
      "I know other places do that too but it's particularly potent I think.\n",
      "2020-05-16 16:52:17 1183277725286449153 @ivyjofreeman @eddsmitty @Jbwill8 @QanonCanSuckIt @Ziggie_zaggie @Doh_Doh_Burrd @zelda229 @bamableu @BLUE_W0LVERINE @_DumptyTrumpty_ @AuthorSpice @b_sullivan704 @bkaydw @Blue2020Cookie @susaun28 @BCOOL333 @RENEEWEATHERS2 @kitchen5203 @_V3ritas @a_patriciann @yeshuabyoseph @Annie25CO swear he does not. We have seen evidence &amp; they admit it\n",
      "#OneVoice1\n",
      "https://t.co/MfQtxmfZlZ\n",
      "2020-05-16 16:49:57 1183277725286449153 @ivyjofreeman @eddsmitty @Jbwill8 @QanonCanSuckIt @Ziggie_zaggie @Doh_Doh_Burrd @zelda229 @bamableu @BLUE_W0LVERINE @_DumptyTrumpty_ @AuthorSpice @b_sullivan704 @bkaydw @Blue2020Cookie @susaun28 @BCOOL333 @RENEEWEATHERS2 @kitchen5203 @_V3ritas @a_patriciann @yeshuabyoseph @Annie25CO I am with you Ivy. I left FB bc 1) Fuckerburg supports Trump &amp; allows illegal propagandizing, theft of personal info about ppl's emotional buttons, their address/location/zip code. They still allow microtargeting while Fuckerburg sticks out his lower lip in a childish pout &amp; will\n"
     ]
    },
    {
     "name": "stdout",
     "output_type": "stream",
     "text": [
      "2020-05-16 11:59:04 1211273561375047681 Esta mañana hemos disfrutado en el #MásterCCI de una auténtica clase magistral de @miguelenlared sobre microtargeting, psicodemografía y targeted news en el contexto de la utilización del big data en las campañas electorales. Cinco horas de aprendizaje muy interesantes. ¡Gracias!\n",
      "2020-05-16 03:33:03 348479635 @Ind_Millenial @JeanneIves But she meme'd the masks so hard!?!?!?! How are you gonna pizza Chicagoland? \n",
      "\n",
      "This is 3rd tier nrcc hack playbook shit and they call it microtargeting. GRIFT.\n",
      "2020-05-16 03:17:26 678033 Lovely.\n",
      "\n",
      "We now have some nice consequential laws for Big Tech from both Australia and France.\n",
      "\n",
      "The public still has more power than microtargeting + Gigantic Data and as some remember this, more will. https://t.co/ob1CWRuN2C\n",
      "2020-05-15 18:46:53 883360323247509504 @BjornReichhardt It’s a complicated topic esp when you consider surveillance tech supplied by ZTE for policing, ubiquity of Fb not only as social media but as a platform used by businesses and news outlets. Microtargeting during elections is my biggest concern. We need data privacy legislation.\n",
      "2020-05-15 16:45:08 882664530802868226 This is true if you exclude the microtargeting &amp; mind manipulation on FB &amp; voter fraud.\n",
      "\n",
      "Trump, Biden and the Myth of ‘But 2016’ https://t.co/q26EA0N8L2\n",
      "2020-05-15 16:34:34 761149951829241856 @BowmanNancy @saradannerdukic Agreed on microtargeting. \n",
      "\n",
      "Hoping Team Biden does it, too. TBH sometimes it’s easy to worry a bit about Team Biden’s social media efforts — of course it’s still &gt;170 days from Election Day.\n",
      "2020-05-15 16:17:28 269546613 @vivekdotca @Slate @FutureTenseNow Cool, but how about compelling social media companies to have banners and notifications with reliable information on COVID rather than microtargeting?\n",
      "2020-05-15 14:44:22 767765532393209860 If attentional choices play a part in the #FirstAmendment calculus, Congress might have more power than we think to regulate ad #microtargeting &amp; political ad expenditures, 2232–44, even if Congress can't regulate earned media &amp; viral content to the same extent, 2180–2232. 2/\n",
      "2020-05-15 08:18:30 1052864761 If you want to understand why we are now flooded with #conspiracy theories you have to understand this technology\n",
      "\n",
      "#rstats #rprogramming #statistics #datascience #analytics #predictiveanalytics #artificialintelligence #ai #corona…https://t.co/f1Xyo86jPM https://t.co/xrsX0dAgAg\n",
      "2020-05-15 06:20:33 1218327300673921029 @IanKropo @Millerheighife the middle class arts-adjacent cig. the microtargeting is real\n",
      "2020-05-15 04:45:32 785639204826980352 @TexHellCat These aren’t being shown to 65+. One thing his campaign did an awesome job at in 2016 was microtargeting.  I’d bet they have 300+ different FB ads and most will never be seen by others.\n",
      "2020-05-14 23:43:47 582316217 @MsMariaT @KevinVesey We have hostile foreign governments,Microtargeting unstable Americans,With brutal efficiency. The Russian goal is to radicalize American citizens,Against each other.\n",
      "The Kremlin provides these domestic terrorists with the technical knowledge needed to kill American citizens. https://t.co/RvXKnNmgXj\n",
      "2020-05-14 23:12:34 582316217 @MsMariaT @KevinVesey Just Slide....\n",
      "This kind of microtargeting for further radicalization,Should be illegal,IMHO https://t.co/kqzl3lKDbB\n",
      "2020-05-14 21:07:06 6393032 What is up with the microtargeting of ads featured at Politico? Does the algorithm think I'm able to afford and into really expensive impressionist art because I'm being sued for $400 million? Because 1) I'm not that rich and 2) I don't like impressionist art. https://t.co/MnpPADIQD7\n",
      "2020-05-14 20:55:42 1253728292332605441 @agraybee This is risky but not clearly stupid. The thing about microtargeting is that unless it ends up a MASSIVE news story only the voters you serve the ads to will see it. This was how the Trump campaign ran a pretty good African American discouragement ad campaign in 2016.\n",
      "2020-05-14 18:00:23 382376904 Facebook's #microtargeting system is dangerous. It's going to get people killed. https://t.co/GPg1UQauAI\n",
      "2020-05-14 17:34:19 730945466855264256 Trump is betting that by squeezing every last vote of his base (about 43% of the electorate), he can eke victory out again. At least, if that's the the theory, Parscale is doing a good job of microtargeting and voter contact. https://t.co/Xh9wSEOMZq\n",
      "2020-05-14 13:57:41 1017812590263701504 @Curious_Kurz @JMGinDC Are you in W2? Just curious for Hulu's accuracy in microtargeting\n",
      "2020-05-14 08:07:31 1093559148871122945 @LDA_6502 @darrengrimes_ Yes ..... that's pretty much what's going on. This has been happening for a long time, the main difference is it allows microtargeting. I don't have a problem with this (apart from the data harvesting issue which is the one thing Codswallop is right about). From reading about 1/2\n",
      "2020-05-13 22:22:56 1251885301330587652 @justinamash I mean,it's called microtargeting.  Acxiom, for example,  segments us based on behavior, spending, preferences,online habits, finances, etc for targeted ad campaigns. Big Data helps predict most people's boring lives and actions with impressive accuracy.\n",
      "2020-05-13 22:04:45 310649839 @fakemikemulloy Justin, you should consider microtargeting your false message to people who will believe it. Incidentally microtargeting is possible because behavioral data on specific individuals are plentiful, and available for purchase even (or especially) from stiles Facebook\n",
      "2020-05-13 20:23:40 1163456058821492736 @MikePotterTD Microtargeting - Nice point!\n",
      "2020-05-13 11:04:48 955306476 #Facebook's micro-targeting in ads is like a massive, unethical, psychological experiment. Here's how we stop it: https://t.co/FP09qRrqxl\n",
      "2020-05-13 09:36:50 14582812 @leemakiyama Since the code is not public, how do we know what versions we are seeing. It's not like microtargeting isn't a thing.\n",
      "2020-05-13 01:55:40 34014678 @Kipmalinosky @maggieNYT @nytimes They actually blamed Michigan on the missed rallies while ignoring microtargeting of Cambridge Analytic and Putin with a little coordination from Manafort.\n",
      "2020-05-13 01:10:37 46514031 @richardgunther @TheWinkApp And to clarify, I don't think Google or Amazon sell your data explicitly, but they use it to built the profile that they use to sell microtargeting ads\n",
      "\n",
      "Samsung almost certainly uses the ST data to target ads, sales, and as an arm of their internal market research\n",
      "2020-05-12 23:15:42 3291733369 @gabeh730 @wikileaks Thiel’s use of surveillance programs/AI on individuals on a mass scale through data mining in tandem working w/ organizations like the NSA it is more going into an authoritarian direction. Also, using social media as virtual reality changing minds by microtargeting psyographics\n",
      "2020-05-12 20:40:56 2400631 Absolute shameless microtargeting of me, personally, to make a John Brown biopic TV series and use Tribe Called Red in the trailer https://t.co/2PY1DaZfVs\n",
      "2020-05-12 19:17:16 1054044958301274112 @artesdepagu @Sebastianunes A estratégia do Bannon/Mercer do microtargeting por perfis psicológicos é exatamente essa. Constroem as bolhas (inclusive as nossas), encurralam cognitivamente as pessoas, criam os cenários de terror sob medida e depois talham a imagem do demagogo exata como a solução mágica.\n",
      "2020-05-12 14:36:00 21943036 @demandprogress I am trying to get all evidence and data used on by Justice Department on my feed using my Presidency to put the appropriate people on Trial. Obama thought he had a gimme for 2020. It is the Mercer microtargeting conviction  needed and he needs to be charged w/ nuke buildings. https://t.co/hBiS2FciX7\n",
      "2020-05-12 07:27:32 21987582 @Jimenez_Mon Sabi niya, truth is the most powerful instrument of persuasion -- the antidote to the hate, lies, and anger of social media strategies that exploit big data, microtargeting, and algorithm bias.\n",
      "2020-05-12 01:18:34 8106172 Why are people in #ThisTown so obsessed with making predictions?\n",
      "\n",
      "Outside of polling, microtargeting or anything related to actual data collecting and analysis, #DC swamp creatures love to publicize their political, economic and other predictions based on bald assertions.\n",
      "2020-05-11 22:02:47 756413660948488192 What Is Microtargeting?\n",
      "https://t.co/VsxXnzPFZC\n",
      "2020-05-11 21:12:45 1069230488 @CarolineLucas @JulieBa15843609 Sorry, you give people false hope.\n",
      "\n",
      "Public inquiry outcome will be covered up AGAIN,\n",
      "\n",
      "Meanwhile:\n",
      "\n",
      "Mafia own nearly all English media,\n",
      "\n",
      "They have millions to hire the best artificial intelligence, the best hackers to steal even more private big data for microtargeting,\n",
      "\n",
      "&amp; Putin.\n"
     ]
    },
    {
     "name": "stdout",
     "output_type": "stream",
     "text": [
      "2020-05-11 20:45:08 101067053 N.B. a faction within @UKlabour used limited budget FaceBook  #microtargeting of the #Corbyn leadership faction. \n",
      "\n",
      "Are out of touch  #Johnson &amp; his cronies being similarly targeted ? #ControlCreep #Cummings already seems to censor his #RedBox papers  \n",
      "\n",
      "https://t.co/AHCcTkXUXO\n",
      "2020-05-11 20:25:40 1069230488 @MZHemingway Censorship is a great solution ...\n",
      "\n",
      "... to those who don't want democracy\n",
      "\n",
      "... to those who embraced Putin's support to get elected\n",
      "\n",
      "... to those who hired Cambridge Analytica to undermine democracy\n",
      "\n",
      "... to those who used big stolen private data for  microtargeting\n",
      "\n",
      "... to mafia!\n",
      "2020-05-11 20:24:35 1069230488 @realDonaldTrump Censorship is a great solution ...\n",
      "\n",
      "... to those who don't want democracy\n",
      "\n",
      "... to those who embraced Putin's support to get elected\n",
      "\n",
      "... to those who hired Cambridge Analytica to undermine democracy\n",
      "\n",
      "... to those who used big stolen private data for  microtargeting\n",
      "\n",
      "... to mafia!\n",
      "2020-05-11 20:04:37 730603182896746496 @DemopJ Are Surveillance Tech, Microtargeting &amp; Voter Suppression some of the few growth industries during a pandemic with no end in sight in an election year?\n",
      "2020-05-11 19:53:07 15053276 #Facebook's micro-targeting in ads is like a massive, unethical, psychological experiment. Here's how we stop it: https://t.co/DKsvhNNkyC\n",
      "2020-05-11 18:28:37 1024791426 @AnaKasparian During your live stream you mentioned one message that doesn't \"resonate\" with people. The American left need to realize that we can't win this election with just one message. There's a reason GOP went all-in on microtargeting in '16.\n",
      "2020-05-11 17:22:03 26924667 @MotherJones Now that's click bait I won't take: don't know what a \"Facebook empathy mom\" is and don't care cuz it smells like the microtargeting poll-testing pseudodemographic BS symptomatic of our democracy's downfall.\n",
      "2020-05-11 16:00:15 2500549836 The fact that I just spent so many hours writing about Cambridge Analytica &amp; behavioral microtargeting to incite political dissonance, makes me overwhelming frustrated with the current state of affairs going on here on Twitter right now.\n"
     ]
    }
   ],
   "source": [
    "import csv\n",
    "import xlsxwriter\n",
    "\n",
    "#The two lines of code below open a file and then prep it for storing data\n",
    "csvFile = open('./microtargeting_2020.csv', 'a')\n",
    "#Use csv Writer\n",
    "csvWriter = csv.writer(csvFile)\n",
    "\n",
    "for tweet in tweepy.Cursor(api.search, \"2020\" and \"microtargeting\", tweet_mode=\"extended\").items(1000):\n",
    "    if 'retweeted_status' in tweet._json:\n",
    "        continue\n",
    "    else: \n",
    "# Write a row to the CSV file. \n",
    "        csvWriter.writerow([tweet.created_at, tweet.user.id, tweet.full_text])\n",
    "        print(tweet.created_at, tweet.user.id, tweet.full_text)\n",
    "csvFile.close()"
   ]
  },
  {
   "cell_type": "markdown",
   "metadata": {},
   "source": [
    "Counting the tweets"
   ]
  },
  {
   "cell_type": "code",
   "execution_count": 29,
   "metadata": {},
   "outputs": [
    {
     "name": "stdout",
     "output_type": "stream",
     "text": [
      "580\n"
     ]
    }
   ],
   "source": [
    "api = tweepy.API(auth, wait_on_rate_limit=True)\n",
    "\n",
    "result = []\n",
    "counter = 0\n",
    "for tweet in tweepy.Cursor(api.search, \"2020\" and \"microtargeting\", tweet_mode=\"extended\").items(1000):\n",
    "    result.append(tweet._json)\n",
    "    counter = counter + 1\n",
    "    \n",
    "print(counter)"
   ]
  },
  {
   "cell_type": "markdown",
   "metadata": {},
   "source": [
    "Extracting entities and saving extracted entities into a csv file"
   ]
  },
  {
   "cell_type": "code",
   "execution_count": 36,
   "metadata": {},
   "outputs": [
    {
     "name": "stdout",
     "output_type": "stream",
     "text": [
      "(so many hours, Cambridge Analytica &amp)\n"
     ]
    }
   ],
   "source": [
    "import spacy \n",
    "nlp = spacy.load('en') \n",
    "api = tweepy.API(auth, wait_on_rate_limit=True) \n",
    "entities = [] \n",
    "for tweet in result: \n",
    "    if 'retweeted_status' in tweet: \n",
    "        continue \n",
    "    else: doc = nlp(tweet[\"full_text\"]) \n",
    "entities.append(doc.ents)\n",
    "\n",
    "#The two lines of code below open a file and then prep it for storing data\n",
    "csvFile = open('microtargeting_2020_entities.csv', \"w\")\n",
    "#Use csv Writer\n",
    "csvWriter = csv.writer(csvFile)\n",
    "\n",
    "for ent in entities:\n",
    "# Write a row to the CSV file. \n",
    "        csvWriter.writerow(ent)\n",
    "        print(ent)\n",
    "csvFile.close()\n"
   ]
  },
  {
   "cell_type": "markdown",
   "metadata": {},
   "source": []
  }
 ],
 "metadata": {
  "kernelspec": {
   "display_name": "Python 3",
   "language": "python",
   "name": "python3"
  },
  "language_info": {
   "codemirror_mode": {
    "name": "ipython",
    "version": 3
   },
   "file_extension": ".py",
   "mimetype": "text/x-python",
   "name": "python",
   "nbconvert_exporter": "python",
   "pygments_lexer": "ipython3",
   "version": "3.7.4"
  }
 },
 "nbformat": 4,
 "nbformat_minor": 2
}
